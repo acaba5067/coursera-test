{
  "nbformat": 4,
  "nbformat_minor": 0,
  "metadata": {
    "colab": {
      "name": "autocorrect_system.ipynb",
      "provenance": [],
      "authorship_tag": "ABX9TyP4AWBTF5aop2skhrpv9ajW",
      "include_colab_link": true
    },
    "kernelspec": {
      "name": "python3",
      "display_name": "Python 3"
    },
    "language_info": {
      "name": "python"
    }
  },
  "cells": [
    {
      "cell_type": "markdown",
      "metadata": {
        "id": "view-in-github",
        "colab_type": "text"
      },
      "source": [
        "<a href=\"https://colab.research.google.com/github/acaba5067/coursera-test/blob/main/autocorrect_system.ipynb\" target=\"_parent\"><img src=\"https://colab.research.google.com/assets/colab-badge.svg\" alt=\"Open In Colab\"/></a>"
      ]
    },
    {
      "cell_type": "markdown",
      "source": [
        "Building an Autocorrect Feature using NLP with Python"
      ],
      "metadata": {
        "id": "53lWYW1zbKnd"
      }
    },
    {
      "cell_type": "markdown",
      "source": [
        "Installing libraries"
      ],
      "metadata": {
        "id": "pOXP0r6jbU7w"
      }
    },
    {
      "cell_type": "code",
      "source": [
        "import re\n",
        "import string\n",
        "from collections import Counter\n",
        "import numpy as np"
      ],
      "metadata": {
        "id": "ljg7IIlVtMuh"
      },
      "execution_count": null,
      "outputs": []
    },
    {
      "cell_type": "code",
      "source": [
        "def read_corpus(filename):\n",
        "  with open(filename, \"r\") as file:\n",
        "    lines = file.readlines()\n",
        "    words = []\n",
        "    for line in lines:\n",
        "      words += re.findall(r'\\w+', line.lower())\n",
        "\n",
        "  return words"
      ],
      "metadata": {
        "id": "oaJynVvDtQcE"
      },
      "execution_count": null,
      "outputs": []
    },
    {
      "cell_type": "code",
      "source": [
        "words = read_corpus(\"./sample.txt\")\n",
        "print(f\"There are {len(words)} total words in the corpus\")"
      ],
      "metadata": {
        "colab": {
          "base_uri": "https://localhost:8080/"
        },
        "id": "fkre4H0ZtUlN",
        "outputId": "a5129998-c037-4ba2-d9ff-0ad33b408632"
      },
      "execution_count": null,
      "outputs": [
        {
          "output_type": "stream",
          "name": "stdout",
          "text": [
            "There are 1001 total words in the corpus\n"
          ]
        }
      ]
    },
    {
      "cell_type": "code",
      "source": [
        "vocabs = set(words)\n",
        "print(f\"There are {len(vocabs)} unique words in the vocabulary\")"
      ],
      "metadata": {
        "colab": {
          "base_uri": "https://localhost:8080/"
        },
        "id": "vqC4T9APtb-j",
        "outputId": "72757c66-7b79-4b59-b60c-3adc46301ecc"
      },
      "execution_count": null,
      "outputs": [
        {
          "output_type": "stream",
          "name": "stdout",
          "text": [
            "There are 1001 unique words in the vocabulary\n"
          ]
        }
      ]
    },
    {
      "cell_type": "code",
      "source": [
        "word_counts = Counter(words)\n",
        "print(word_counts[\"account\"])"
      ],
      "metadata": {
        "colab": {
          "base_uri": "https://localhost:8080/"
        },
        "id": "Pmi2SToFtiA5",
        "outputId": "878ffd72-31d6-4b97-edcb-0f51db281c44"
      },
      "execution_count": null,
      "outputs": [
        {
          "output_type": "stream",
          "name": "stdout",
          "text": [
            "1\n"
          ]
        }
      ]
    },
    {
      "cell_type": "code",
      "source": [
        "total_word_count = float(sum(word_counts.values()))\n",
        "word_probas = {word: word_counts[word] / total_word_count for word in word_counts.keys()}"
      ],
      "metadata": {
        "id": "0ojQ77iotyHP"
      },
      "execution_count": null,
      "outputs": []
    },
    {
      "cell_type": "code",
      "source": [
        "print(word_probas[\"a\"])"
      ],
      "metadata": {
        "colab": {
          "base_uri": "https://localhost:8080/"
        },
        "id": "qaER17pwt5kh",
        "outputId": "7b453549-c63b-4fff-8afb-215335f378bd"
      },
      "execution_count": null,
      "outputs": [
        {
          "output_type": "stream",
          "name": "stdout",
          "text": [
            "0.000999000999000999\n"
          ]
        }
      ]
    },
    {
      "cell_type": "code",
      "source": [
        "def split(word):\n",
        "  return [(word[:i], word[i:]) for i in range(len(word) + 1)]"
      ],
      "metadata": {
        "id": "X8k7Bd4ctmct"
      },
      "execution_count": null,
      "outputs": []
    },
    {
      "cell_type": "code",
      "source": [
        "print(split(\"trash\"))"
      ],
      "metadata": {
        "colab": {
          "base_uri": "https://localhost:8080/"
        },
        "id": "mkxoNkMGt_r7",
        "outputId": "110498c7-1a9d-4a17-bb42-2bf576789cd1"
      },
      "execution_count": null,
      "outputs": [
        {
          "output_type": "stream",
          "name": "stdout",
          "text": [
            "[('', 'trash'), ('t', 'rash'), ('tr', 'ash'), ('tra', 'sh'), ('tras', 'h'), ('trash', '')]\n"
          ]
        }
      ]
    },
    {
      "cell_type": "code",
      "source": [
        "def delete(word):\n",
        "  return [l + r[1:] for l,r in split(word) if r]"
      ],
      "metadata": {
        "id": "XHPyH3Ttu8Cs"
      },
      "execution_count": null,
      "outputs": []
    },
    {
      "cell_type": "code",
      "source": [
        "print(delete(\"trash\"))"
      ],
      "metadata": {
        "colab": {
          "base_uri": "https://localhost:8080/"
        },
        "id": "J27zNNd_u_ys",
        "outputId": "1920f538-da1c-4c35-c419-9582ae7966f7"
      },
      "execution_count": null,
      "outputs": [
        {
          "output_type": "stream",
          "name": "stdout",
          "text": [
            "['rash', 'tash', 'trsh', 'trah', 'tras']\n"
          ]
        }
      ]
    },
    {
      "cell_type": "code",
      "source": [
        "def swap(word):\n",
        "  return [l + r[1] + r[0] + r[2:] for l, r in split(word) if len(r)>1]"
      ],
      "metadata": {
        "id": "vITw_NxauJiM"
      },
      "execution_count": null,
      "outputs": []
    },
    {
      "cell_type": "code",
      "source": [
        "print(swap(\"trash\"))"
      ],
      "metadata": {
        "colab": {
          "base_uri": "https://localhost:8080/"
        },
        "id": "d97xhZXCuOb9",
        "outputId": "78f2bd91-67d9-474e-cd92-58aefd2adf8e"
      },
      "execution_count": null,
      "outputs": [
        {
          "output_type": "stream",
          "name": "stdout",
          "text": [
            "['rtash', 'tarsh', 'trsah', 'trahs']\n"
          ]
        }
      ]
    },
    {
      "cell_type": "code",
      "source": [
        "string.ascii_lowercase"
      ],
      "metadata": {
        "colab": {
          "base_uri": "https://localhost:8080/",
          "height": 35
        },
        "id": "Y8sjeeXouXeQ",
        "outputId": "18e9f36e-33c5-466e-971c-89a778ca21db"
      },
      "execution_count": null,
      "outputs": [
        {
          "output_type": "execute_result",
          "data": {
            "text/plain": [
              "'abcdefghijklmnopqrstuvwxyz'"
            ],
            "application/vnd.google.colaboratory.intrinsic+json": {
              "type": "string"
            }
          },
          "metadata": {},
          "execution_count": 14
        }
      ]
    },
    {
      "cell_type": "code",
      "source": [
        "def replace(word):\n",
        "  letters = string.ascii_lowercase\n",
        "  return [l + c + r[1:] for l, r in split(word) if r for c in letters]"
      ],
      "metadata": {
        "id": "O5YMQEklub7z"
      },
      "execution_count": null,
      "outputs": []
    },
    {
      "cell_type": "code",
      "source": [
        "print(replace(\"trash\"))"
      ],
      "metadata": {
        "colab": {
          "base_uri": "https://localhost:8080/"
        },
        "id": "PxJmjGz4ufar",
        "outputId": "8aba4074-4f0a-4358-d8e1-3be146c5541a"
      },
      "execution_count": null,
      "outputs": [
        {
          "output_type": "stream",
          "name": "stdout",
          "text": [
            "['arash', 'brash', 'crash', 'drash', 'erash', 'frash', 'grash', 'hrash', 'irash', 'jrash', 'krash', 'lrash', 'mrash', 'nrash', 'orash', 'prash', 'qrash', 'rrash', 'srash', 'trash', 'urash', 'vrash', 'wrash', 'xrash', 'yrash', 'zrash', 'taash', 'tbash', 'tcash', 'tdash', 'teash', 'tfash', 'tgash', 'thash', 'tiash', 'tjash', 'tkash', 'tlash', 'tmash', 'tnash', 'toash', 'tpash', 'tqash', 'trash', 'tsash', 'ttash', 'tuash', 'tvash', 'twash', 'txash', 'tyash', 'tzash', 'trash', 'trbsh', 'trcsh', 'trdsh', 'tresh', 'trfsh', 'trgsh', 'trhsh', 'trish', 'trjsh', 'trksh', 'trlsh', 'trmsh', 'trnsh', 'trosh', 'trpsh', 'trqsh', 'trrsh', 'trssh', 'trtsh', 'trush', 'trvsh', 'trwsh', 'trxsh', 'trysh', 'trzsh', 'traah', 'trabh', 'trach', 'tradh', 'traeh', 'trafh', 'tragh', 'trahh', 'traih', 'trajh', 'trakh', 'tralh', 'tramh', 'tranh', 'traoh', 'traph', 'traqh', 'trarh', 'trash', 'trath', 'trauh', 'travh', 'trawh', 'traxh', 'trayh', 'trazh', 'trasa', 'trasb', 'trasc', 'trasd', 'trase', 'trasf', 'trasg', 'trash', 'trasi', 'trasj', 'trask', 'trasl', 'trasm', 'trasn', 'traso', 'trasp', 'trasq', 'trasr', 'trass', 'trast', 'trasu', 'trasv', 'trasw', 'trasx', 'trasy', 'trasz']\n"
          ]
        }
      ]
    },
    {
      "cell_type": "code",
      "source": [
        "def insert(word):\n",
        "  letters = string.ascii_lowercase\n",
        "  return [l + c + r for l, r in split(word) for c in letters]"
      ],
      "metadata": {
        "id": "wgAlkPnvuiY3"
      },
      "execution_count": null,
      "outputs": []
    },
    {
      "cell_type": "code",
      "source": [
        "def edit1(word):\n",
        "  return set(delete(word) + swap(word) + replace(word) + insert(word))"
      ],
      "metadata": {
        "id": "XXgsjl76uoF0"
      },
      "execution_count": null,
      "outputs": []
    },
    {
      "cell_type": "code",
      "source": [
        "print(edit1(\"trash\"))"
      ],
      "metadata": {
        "colab": {
          "base_uri": "https://localhost:8080/"
        },
        "id": "HwnluaWMusOb",
        "outputId": "2b7ce328-3c70-46a7-bd7f-852fb13e9492"
      },
      "execution_count": null,
      "outputs": [
        {
          "output_type": "stream",
          "name": "stdout",
          "text": [
            "{'irash', 'trzsh', 'jrash', 'tralh', 'trarh', 'thash', 'trxash', 'xrash', 'traslh', 'traksh', 'trpsh', 'tryash', 'ztrash', 'trashc', 'tmash', 'tfrash', 'trasyh', 'hrash', 'tranh', 'ytrash', 'trath', 'trasy', 'trashk', 'trsash', 'trashm', 'trasbh', 'traso', 'trhash', 'qtrash', 'tkash', 'tsrash', 'trahh', 'trasg', 'trhsh', 'trlsh', 'tdrash', 'tramsh', 'trarsh', 'traxsh', 'tlash', 'traah', 'trashu', 'mrash', 'trazh', 'ptrash', 'trasph', 'tgash', 'trashw', 'nrash', 'trasrh', 'trash', 'trauh', 'xtrash', 'strash', 'htrash', 'tfash', 'tnrash', 'wrash', 'twrash', 'trzash', 'zrash', 'trfash', 'traush', 'trasxh', 'trasuh', 'trasvh', 'trasih', 'teash', 'toash', 'trahs', 'trasho', 'tash', 'tvrash', 'trbash', 'trssh', 'tgrash', 'torash', 'trashd', 'trsh', 'trasq', 'trayh', 'treash', 'trqsh', 'turash', 'trashf', 'trashx', 'tpash', 'trashj', 'tbash', 'brash', 'tresh', 'traph', 'etrash', 'triash', 'trwash', 'trasch', 'tcash', 'trask', 'tprash', 'trasr', 'tjash', 'trakh', 'trapsh', 'trashh', 'troash', 'trasjh', 'tcrash', 'tzrash', 'tqash', 'ctrash', 'trahsh', 'srash', 'trcsh', 'trcash', 'prash', 'vrash', 'trnash', 'trashi', 'traswh', 'trashn', 'trasb', 'tyrash', 'trlash', 'trafh', 'tramh', 'trgash', 'traysh', 'trasoh', 'tracsh', 'txrash', 'tragsh', 'trasmh', 'ltrash', 'rtrash', 'trasnh', 'trmash', 'drash', 'trasah', 'travsh', 'ttrash', 'trkash', 'trashl', 'traseh', 'trvsh', 'mtrash', 'tqrash', 'tragh', 'txash', 'trasc', 'tirash', 'lrash', 'tyash', 'trasth', 'urash', 'trashb', 'trtsh', 'trass', 'trajh', 'trrsh', 'wtrash', 'arash', 'trksh', 'dtrash', 'traish', 'trish', 'trjsh', 'trashy', 'trosh', 'trase', 'traesh', 'tradsh', 'trasfh', 'tarsh', 'trnsh', 'tdash', 'trasv', 'grash', 'trasp', 'trasl', 'tmrash', 'trbsh', 'trasu', 'jtrash', 'rtash', 'orash', 'itrash', 'traih', 'tbrash', 'twash', 'terash', 'traash', 'tiash', 'traqsh', 'trvash', 'yrash', 'tuash', 'tratsh', 'trashe', 'trashz', 'trasw', 'trafsh', 'tnash', 'taash', 'trqash', 'atrash', 'trasdh', 'trasht', 'trjash', 'trazsh', 'traskh', 'trashs', 'trasd', 'trasa', 'trasj', 'trdash', 'crash', 'trah', 'thrash', 'tras', 'trasn', 'trashg', 'trabh', 'trwsh', 'trasf', 'btrash', 'tkrash', 'tarash', 'erash', 'gtrash', 'rash', 'ktrash', 'trajsh', 'trysh', 'trasha', 'trmsh', 'trxsh', 'traqh', 'tlrash', 'trashv', 'trush', 'trdsh', 'trasz', 'trabsh', 'tsash', 'trgsh', 'traszh', 'krash', 'truash', 'trassh', 'trasqh', 'traoh', 'traeh', 'vtrash', 'trashr', 'travh', 'transh', 'qrash', 'tralsh', 'traxh', 'trfsh', 'frash', 'trasx', 'ntrash', 'otrash', 'ttash', 'traosh', 'trawsh', 'trasgh', 'trashp', 'trasi', 'utrash', 'trsah', 'trtash', 'trpash', 'trawh', 'ftrash', 'trasm', 'tradh', 'tjrash', 'trashq', 'trach', 'trast', 'tvash', 'trrash', 'tzash', 'rrash'}\n"
          ]
        }
      ]
    },
    {
      "cell_type": "code",
      "source": [
        "def edit2(word):\n",
        "  return set(e2 for e1 in edit1(word) for e2 in edit1(e1))"
      ],
      "metadata": {
        "id": "XCabADkavFiG"
      },
      "execution_count": null,
      "outputs": []
    },
    {
      "cell_type": "code",
      "source": [
        "def correct_spelling(word, vocabulary, word_probabilities):\n",
        "  if word in vocabulary:\n",
        "    print(f\"{word} is already correctly spelt\")\n",
        "    return \n",
        "\n",
        "  suggestions = edit1(word) or edit2(word) or [word]\n",
        "  best_guesses = [w for w in suggestions if w in vocabulary]\n",
        "  return [(w, word_probabilities[w]) for w in best_guesses]"
      ],
      "metadata": {
        "id": "L7mE4d37vM5c"
      },
      "execution_count": null,
      "outputs": []
    },
    {
      "cell_type": "code",
      "source": [
        "word = \"famile\"\n",
        "corrections = correct_spelling(word, vocabs, word_probas)\n",
        "\n",
        "if corrections:\n",
        "  print(corrections)\n",
        "  probs = np.array([c[1] for c in corrections])\n",
        "  best_ix = np.argmax(probs)\n",
        "  correct = corrections[best_ix][0]\n",
        "  print(f\"{correct} is suggested for {word}\")"
      ],
      "metadata": {
        "colab": {
          "base_uri": "https://localhost:8080/"
        },
        "id": "BCBGT3kSvUO8",
        "outputId": "01c87ce9-e982-4bcc-f31a-7efaf84b920d"
      },
      "execution_count": null,
      "outputs": [
        {
          "output_type": "stream",
          "name": "stdout",
          "text": [
            "[('family', 0.000999000999000999)]\n",
            "family is suggested for famile\n"
          ]
        }
      ]
    },
    {
      "cell_type": "code",
      "source": [
        "class SpellChecker(object):\n",
        "\n",
        "  def __init__(self, corpus_file_path):\n",
        "    with open(corpus_file_path, \"r\") as file:\n",
        "      lines = file.readlines()\n",
        "      words = []\n",
        "      for line in lines:\n",
        "        words += re.findall(r'\\w+', line.lower())\n",
        "\n",
        "    self.vocabs = set(words)\n",
        "    self.word_counts = Counter(words)\n",
        "    total_words = float(sum(self.word_counts.values()))\n",
        "    self.word_probas = {word: self.word_counts[word] / total_words for word in self.vocabs}\n",
        "\n",
        "  def _level_one_edits(self, word):\n",
        "    letters = string.ascii_lowercase\n",
        "    splits = [(word[:i], word[i:]) for i in range(len(word) + 1)]\n",
        "    deletes = [l + r[1:] for l,r in splits if r]\n",
        "    swaps = [l + r[1] + r[0] + r[2:] for l, r in splits if len(r)>1]\n",
        "    replaces = [l + c + r[1:] for l, r in splits if r for c in letters]\n",
        "    inserts = [l + c + r for l, r in splits for c in letters] \n",
        "\n",
        "    return set(deletes + swaps + replaces + inserts)\n",
        "\n",
        "  def _level_two_edits(self, word):\n",
        "    return set(e2 for e1 in self._level_one_edits(word) for e2 in self._level_one_edits(e1))\n",
        "\n",
        "  def check(self, word):\n",
        "    candidates = self._level_one_edits(word) or self._level_two_edits(word) or [word]\n",
        "    valid_candidates = [w for w in candidates if w in self.vocabs]\n",
        "    return sorted([(c, self.word_probas[c]) for c in valid_candidates], key=lambda tup: tup[1], reverse=True)"
      ],
      "metadata": {
        "id": "UaaDRVZxvjZJ"
      },
      "execution_count": null,
      "outputs": []
    },
    {
      "cell_type": "code",
      "source": [
        "checker = SpellChecker(\"./sample.txt\")"
      ],
      "metadata": {
        "id": "_JwmVevavzkF"
      },
      "execution_count": null,
      "outputs": []
    },
    {
      "cell_type": "code",
      "source": [
        "checker.check(\"accouut\")"
      ],
      "metadata": {
        "colab": {
          "base_uri": "https://localhost:8080/"
        },
        "id": "4sDRwnE9v2Zo",
        "outputId": "9f81986d-e886-4ed6-f195-c84ea57ebaff"
      },
      "execution_count": null,
      "outputs": [
        {
          "output_type": "execute_result",
          "data": {
            "text/plain": [
              "[('account', 0.000999000999000999)]"
            ]
          },
          "metadata": {},
          "execution_count": 29
        }
      ]
    }
  ]
}